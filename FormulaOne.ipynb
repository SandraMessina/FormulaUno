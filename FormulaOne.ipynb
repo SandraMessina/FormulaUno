{
  "nbformat": 4,
  "nbformat_minor": 0,
  "metadata": {
    "colab": {
      "provenance": []
    },
    "kernelspec": {
      "name": "python3",
      "display_name": "Python 3"
    },
    "language_info": {
      "name": "python"
    }
  },
  "cells": [
    {
      "cell_type": "code",
      "source": [
        "import pandas as pd\n",
        "\n",
        "reader = pd.read_csv(formula1_path)\n",
        "print(reader)"
      ],
      "metadata": {
        "colab": {
          "base_uri": "https://localhost:8080/"
        },
        "id": "KhXhnFSqrRYd",
        "outputId": "8b366334-0e33-4200-cc9a-b816c9a46d7e"
      },
      "execution_count": null,
      "outputs": [
        {
          "output_type": "stream",
          "name": "stdout",
          "text": [
            "         Driver        Team        Race    Country  Position\n",
            "0      Hamilton     McLaren   Melbourne  Australia         1\n",
            "1         Massa     Ferrari   Melbourne  Australia         0\n",
            "2     Raikkonen     Ferrari   Melbourne  Australia         8\n",
            "3        Kubica         BMW   Melbourne  Australia         0\n",
            "4        Alonso     Renault   Melbourne  Australia         4\n",
            "..          ...         ...         ...        ...       ...\n",
            "175    Heidfeld         BMW  Interlagos    Brasile         0\n",
            "176  Kovalainen     McLaren  Interlagos    Brasile         7\n",
            "177      Vettel  Toro Rosso  Interlagos    Brasile         4\n",
            "178      Trulli      Toyota  Interlagos    Brasile         8\n",
            "179       Glock      Toyota  Interlagos    Brasile         6\n",
            "\n",
            "[180 rows x 5 columns]\n"
          ]
        }
      ]
    },
    {
      "cell_type": "code",
      "source": [
        "def _position_converter(position_relevant_rows):\n",
        "  position_converter = [0, 10, 8, 6, 5, 4, 3, 2, 1, 0, 0]\n",
        "  total_score = 0\n",
        "  for item in position_relevant_rows:\n",
        "    total_score += position_converter[int(item)]\n",
        "  return total_score"
      ],
      "metadata": {
        "id": "NlQygtQRqQAT"
      },
      "execution_count": null,
      "outputs": []
    },
    {
      "cell_type": "code",
      "source": [
        "def pilot_info(pilot):\n",
        "  formula1_path = \"formula1_data.csv\"\n",
        "  data = pd.read_csv(formula1_path)\n",
        "  relevant_rows = data[data.Driver == pilot].Position.values\n",
        "  total_score = _position_converter(relevant_rows)\n",
        "  total_podium = 0\n",
        "  total_1st = 0\n",
        "  for item in relevant_rows:\n",
        "    if item == 1 :\n",
        "      total_1st += 1\n",
        "      total_podium += 1\n",
        "    elif item in [2, 3]:\n",
        "      total_podium += 1\n",
        "  return [total_score, total_1st, total_podium]\n"
      ],
      "metadata": {
        "id": "Vp9JpQNA4BYQ"
      },
      "execution_count": null,
      "outputs": []
    },
    {
      "cell_type": "code",
      "source": [
        "info_Hamilton = pilot_info(\"Hamilton\")\n",
        "print(info_Hamilton)"
      ],
      "metadata": {
        "colab": {
          "base_uri": "https://localhost:8080/"
        },
        "id": "4FJHhWlXyIbw",
        "outputId": "d011f3f8-16f9-4e7b-899c-bd30ec77c7c7"
      },
      "execution_count": null,
      "outputs": [
        {
          "output_type": "stream",
          "name": "stdout",
          "text": [
            "[98, 5, 10]\n"
          ]
        }
      ]
    },
    {
      "cell_type": "code",
      "source": [
        "def pilots_scores():\n",
        "  formula1_path = \"formula1_data.csv\"\n",
        "  data = pd.read_csv(formula1_path)\n",
        "  score_info = {row.Driver: _position_converter(data[data.Driver == row.Driver].Position.values) for (index, row) in  data.iterrows()}\n",
        "  #with open(\"/content/drive/My Drive/formula1_Scores.txt\", mode=\"w\") as final_data:\n",
        "  with open(\"formula1_Scores.txt\", mode=\"w\") as final_data:\n",
        "    final_data.write(\"Drivers Standings 2008 Formula 1\\n\")\n",
        "    for (key, value) in score_info.items():\n",
        "      final_data.write(f\"{key}: {value}\\n\")\n",
        "  return score_info"
      ],
      "metadata": {
        "id": "oh8J3fNqyItI"
      },
      "execution_count": null,
      "outputs": []
    },
    {
      "cell_type": "code",
      "source": [
        "pilots_final_scores = pilots_scores()\n",
        "print(pilots_final_scores)"
      ],
      "metadata": {
        "colab": {
          "base_uri": "https://localhost:8080/"
        },
        "id": "qqVFvpB5MUHl",
        "outputId": "fade2786-c84b-475f-83ab-1654bd9749ee"
      },
      "execution_count": null,
      "outputs": [
        {
          "output_type": "stream",
          "name": "stdout",
          "text": [
            "{'Hamilton': 98, 'Massa': 97, 'Raikkonen': 75, 'Kubica': 75, 'Alonso': 61, 'Heidfeld': 60, 'Kovalainen': 53, 'Vettel': 35, 'Trulli': 31, 'Glock': 25}\n"
          ]
        }
      ]
    },
    {
      "cell_type": "code",
      "source": [
        "def team_scores():\n",
        "  formula1_path = \"formula1_data.csv\"\n",
        "  data = pd.read_csv(formula1_path)\n",
        "  teams = {row.Team: [] for (index,row) in data.iterrows()}\n",
        "  for (index, row) in data.iterrows():\n",
        "    if row.Driver not in teams[row.Team]:\n",
        "      teams[row.Team].append(row.Driver)\n",
        "    teams_score = {row.Team: 0 for (index,row) in data.iterrows()}\n",
        "  #with open(\"/content/drive/My Drive/formula1_Scores.txt\", mode=\"r\") as pilot_file:\n",
        "  with open(\"formula1_Scores.txt\", mode=\"r\") as pilot_file:\n",
        "    contents = pilot_file.readlines()[1:]\n",
        "    for line in contents:\n",
        "      pilot, score = line.replace(\"\\n\", \"\").split(\": \")\n",
        "      for (team, pilots) in teams.items():\n",
        "        if pilot in pilots:\n",
        "          teams_score[team] += int(score)\n",
        "  return teams_score"
      ],
      "metadata": {
        "id": "gb8qUHekMZjE"
      },
      "execution_count": null,
      "outputs": []
    },
    {
      "cell_type": "code",
      "source": [
        "teams_final_scores = team_scores()\n",
        "print(teams_final_scores)"
      ],
      "metadata": {
        "colab": {
          "base_uri": "https://localhost:8080/"
        },
        "id": "AjaJCTjyebtE",
        "outputId": "ed310567-ec79-41c1-bd7a-9b7c15db8e28"
      },
      "execution_count": null,
      "outputs": [
        {
          "output_type": "stream",
          "name": "stdout",
          "text": [
            "{'McLaren': 151, 'Ferrari': 172, 'BMW': 135, 'Renault': 61, 'Toro Rosso': 35, 'Toyota': 56}\n"
          ]
        }
      ]
    },
    {
      "cell_type": "code",
      "source": [],
      "metadata": {
        "id": "8tH3zbzqmb5E"
      },
      "execution_count": null,
      "outputs": []
    }
  ]
}
